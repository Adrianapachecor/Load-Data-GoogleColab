{
  "nbformat": 4,
  "nbformat_minor": 0,
  "metadata": {
    "colab": {
      "name": "LoadData.ipynb",
      "provenance": []
    },
    "kernelspec": {
      "name": "python3",
      "display_name": "Python 3"
    },
    "language_info": {
      "name": "python"
    }
  },
  "cells": [
    {
      "cell_type": "code",
      "execution_count": null,
      "metadata": {
        "colab": {
          "base_uri": "https://localhost:8080/"
        },
        "id": "-8w61LXWwEqu",
        "outputId": "01c8a4ae-26f6-4d75-ee01-cc2e62a3da41"
      },
      "outputs": [
        {
          "output_type": "stream",
          "name": "stdout",
          "text": [
            "Mounted at /content/drive\n"
          ]
        }
      ],
      "source": [
        "# importar una librería\n",
        "from google.colab import drive\n",
        "drive.mount('/content/drive')"
      ]
    },
    {
      "cell_type": "code",
      "source": [
        "import pandas as pd"
      ],
      "metadata": {
        "id": "Bv2X91qJxeTq"
      },
      "execution_count": null,
      "outputs": []
    },
    {
      "cell_type": "code",
      "source": [
        "# Ten en cuenta que el filename probablemente será distinto en tu computador(especialmente, más adelante en el curso))\n",
        "filename = '/content/drive/My Drive/PTDataScience/PandasForDataManipulation/bostonHousing1978.xlsx'\n",
        "df = pd.read_excel(filename)\n",
        "df"
      ],
      "metadata": {
        "id": "eEb9PudPylae"
      },
      "execution_count": null,
      "outputs": []
    },
    {
      "cell_type": "code",
      "source": [
        ""
      ],
      "metadata": {
        "id": "jSBQ9vYWy-Ri"
      },
      "execution_count": null,
      "outputs": []
    }
  ]
}